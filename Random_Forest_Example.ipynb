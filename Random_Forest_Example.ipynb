{
 "cells": [
  {
   "cell_type": "code",
   "execution_count": 92,
   "metadata": {},
   "outputs": [],
   "source": [
    "import warnings\n",
    "warnings.filterwarnings('ignore')\n",
    "\n",
    "import numpy as np\n",
    "import pandas as pd\n",
    "from sklearn.ensemble import RandomForestClassifier\n",
    "from sklearn.metrics import confusion_matrix, classification_report"
   ]
  },
  {
   "cell_type": "code",
   "execution_count": 93,
   "metadata": {},
   "outputs": [],
   "source": [
    "from pydataset import data\n",
    "from sklearn.model_selection import train_test_split"
   ]
  },
  {
   "cell_type": "code",
   "execution_count": 75,
   "metadata": {},
   "outputs": [],
   "source": [
    "# obtain/acquire our dataframe\n",
    "df = data('iris')"
   ]
  },
  {
   "cell_type": "code",
   "execution_count": 76,
   "metadata": {},
   "outputs": [
    {
     "data": {
      "text/html": [
       "<div>\n",
       "<style scoped>\n",
       "    .dataframe tbody tr th:only-of-type {\n",
       "        vertical-align: middle;\n",
       "    }\n",
       "\n",
       "    .dataframe tbody tr th {\n",
       "        vertical-align: top;\n",
       "    }\n",
       "\n",
       "    .dataframe thead th {\n",
       "        text-align: right;\n",
       "    }\n",
       "</style>\n",
       "<table border=\"1\" class=\"dataframe\">\n",
       "  <thead>\n",
       "    <tr style=\"text-align: right;\">\n",
       "      <th></th>\n",
       "      <th>Sepal.Length</th>\n",
       "      <th>Sepal.Width</th>\n",
       "      <th>Petal.Length</th>\n",
       "      <th>Petal.Width</th>\n",
       "      <th>Species</th>\n",
       "    </tr>\n",
       "  </thead>\n",
       "  <tbody>\n",
       "    <tr>\n",
       "      <th>1</th>\n",
       "      <td>5.1</td>\n",
       "      <td>3.5</td>\n",
       "      <td>1.4</td>\n",
       "      <td>0.2</td>\n",
       "      <td>setosa</td>\n",
       "    </tr>\n",
       "    <tr>\n",
       "      <th>2</th>\n",
       "      <td>4.9</td>\n",
       "      <td>3.0</td>\n",
       "      <td>1.4</td>\n",
       "      <td>0.2</td>\n",
       "      <td>setosa</td>\n",
       "    </tr>\n",
       "    <tr>\n",
       "      <th>3</th>\n",
       "      <td>4.7</td>\n",
       "      <td>3.2</td>\n",
       "      <td>1.3</td>\n",
       "      <td>0.2</td>\n",
       "      <td>setosa</td>\n",
       "    </tr>\n",
       "  </tbody>\n",
       "</table>\n",
       "</div>"
      ],
      "text/plain": [
       "   Sepal.Length  Sepal.Width  Petal.Length  Petal.Width Species\n",
       "1           5.1          3.5           1.4          0.2  setosa\n",
       "2           4.9          3.0           1.4          0.2  setosa\n",
       "3           4.7          3.2           1.3          0.2  setosa"
      ]
     },
     "execution_count": 76,
     "metadata": {},
     "output_type": "execute_result"
    }
   ],
   "source": [
    "df.head(3)"
   ]
  },
  {
   "cell_type": "code",
   "execution_count": 77,
   "metadata": {},
   "outputs": [],
   "source": [
    "#Prepare our data"
   ]
  },
  {
   "cell_type": "code",
   "execution_count": 78,
   "metadata": {},
   "outputs": [
    {
     "name": "stdout",
     "output_type": "stream",
     "text": [
      "<class 'pandas.core.frame.DataFrame'>\n",
      "Int64Index: 150 entries, 1 to 150\n",
      "Data columns (total 5 columns):\n",
      " #   Column        Non-Null Count  Dtype  \n",
      "---  ------        --------------  -----  \n",
      " 0   Sepal.Length  150 non-null    float64\n",
      " 1   Sepal.Width   150 non-null    float64\n",
      " 2   Petal.Length  150 non-null    float64\n",
      " 3   Petal.Width   150 non-null    float64\n",
      " 4   Species       150 non-null    object \n",
      "dtypes: float64(4), object(1)\n",
      "memory usage: 7.0+ KB\n"
     ]
    }
   ],
   "source": [
    "df.info()"
   ]
  },
  {
   "cell_type": "code",
   "execution_count": 83,
   "metadata": {},
   "outputs": [],
   "source": [
    "# data looks ok at first glance -- we will proceed (with caution)\n",
    "#split our data\n",
    "train, test = train_test_split(df, train_size=0.8, \n",
    "                               random_state=1349, \n",
    "                               stratify=df.Species)"
   ]
  },
  {
   "cell_type": "code",
   "execution_count": 84,
   "metadata": {},
   "outputs": [],
   "source": [
    "train, validate = train_test_split(train, train_size=0.7, \n",
    "                                   random_state=1349, \n",
    "                                   stratify=train.Species)"
   ]
  },
  {
   "cell_type": "code",
   "execution_count": 85,
   "metadata": {},
   "outputs": [
    {
     "data": {
      "text/plain": [
       "((84, 5), (36, 5), (30, 5))"
      ]
     },
     "execution_count": 85,
     "metadata": {},
     "output_type": "execute_result"
    }
   ],
   "source": [
    "train.shape, validate.shape, test.shape"
   ]
  },
  {
   "cell_type": "code",
   "execution_count": 86,
   "metadata": {},
   "outputs": [],
   "source": [
    "# separate our X and y (independent vs dependent variables)\n",
    "X_train = train.drop(columns = 'Species')"
   ]
  },
  {
   "cell_type": "code",
   "execution_count": 87,
   "metadata": {},
   "outputs": [],
   "source": [
    "y_train = train[['Species']]"
   ]
  },
  {
   "cell_type": "code",
   "execution_count": 88,
   "metadata": {},
   "outputs": [
    {
     "data": {
      "text/html": [
       "<div>\n",
       "<style scoped>\n",
       "    .dataframe tbody tr th:only-of-type {\n",
       "        vertical-align: middle;\n",
       "    }\n",
       "\n",
       "    .dataframe tbody tr th {\n",
       "        vertical-align: top;\n",
       "    }\n",
       "\n",
       "    .dataframe thead th {\n",
       "        text-align: right;\n",
       "    }\n",
       "</style>\n",
       "<table border=\"1\" class=\"dataframe\">\n",
       "  <thead>\n",
       "    <tr style=\"text-align: right;\">\n",
       "      <th></th>\n",
       "      <th>Sepal.Length</th>\n",
       "      <th>Sepal.Width</th>\n",
       "      <th>Petal.Length</th>\n",
       "      <th>Petal.Width</th>\n",
       "    </tr>\n",
       "  </thead>\n",
       "  <tbody>\n",
       "    <tr>\n",
       "      <th>139</th>\n",
       "      <td>6.0</td>\n",
       "      <td>3.0</td>\n",
       "      <td>4.8</td>\n",
       "      <td>1.8</td>\n",
       "    </tr>\n",
       "    <tr>\n",
       "      <th>8</th>\n",
       "      <td>5.0</td>\n",
       "      <td>3.4</td>\n",
       "      <td>1.5</td>\n",
       "      <td>0.2</td>\n",
       "    </tr>\n",
       "    <tr>\n",
       "      <th>80</th>\n",
       "      <td>5.7</td>\n",
       "      <td>2.6</td>\n",
       "      <td>3.5</td>\n",
       "      <td>1.0</td>\n",
       "    </tr>\n",
       "    <tr>\n",
       "      <th>75</th>\n",
       "      <td>6.4</td>\n",
       "      <td>2.9</td>\n",
       "      <td>4.3</td>\n",
       "      <td>1.3</td>\n",
       "    </tr>\n",
       "    <tr>\n",
       "      <th>98</th>\n",
       "      <td>6.2</td>\n",
       "      <td>2.9</td>\n",
       "      <td>4.3</td>\n",
       "      <td>1.3</td>\n",
       "    </tr>\n",
       "  </tbody>\n",
       "</table>\n",
       "</div>"
      ],
      "text/plain": [
       "     Sepal.Length  Sepal.Width  Petal.Length  Petal.Width\n",
       "139           6.0          3.0           4.8          1.8\n",
       "8             5.0          3.4           1.5          0.2\n",
       "80            5.7          2.6           3.5          1.0\n",
       "75            6.4          2.9           4.3          1.3\n",
       "98            6.2          2.9           4.3          1.3"
      ]
     },
     "execution_count": 88,
     "metadata": {},
     "output_type": "execute_result"
    }
   ],
   "source": [
    "X_train.head()"
   ]
  },
  {
   "cell_type": "code",
   "execution_count": 35,
   "metadata": {},
   "outputs": [],
   "source": [
    "# Lets make our model!"
   ]
  },
  {
   "cell_type": "code",
   "execution_count": 94,
   "metadata": {},
   "outputs": [],
   "source": [
    "# make our thing   clf = classifier\n",
    "clf = RandomForestClassifier()"
   ]
  },
  {
   "cell_type": "code",
   "execution_count": 95,
   "metadata": {},
   "outputs": [
    {
     "data": {
      "text/plain": [
       "RandomForestClassifier()"
      ]
     },
     "execution_count": 95,
     "metadata": {},
     "output_type": "execute_result"
    }
   ],
   "source": [
    "# fit the thing (ONLY ON TRAIN!)\n",
    "clf.fit(X_train, y_train)"
   ]
  },
  {
   "cell_type": "code",
   "execution_count": 96,
   "metadata": {},
   "outputs": [],
   "source": [
    "# use the thing (on in-sample data)\n",
    "y_pred = clf.predict(X_train)"
   ]
  },
  {
   "cell_type": "code",
   "execution_count": 97,
   "metadata": {},
   "outputs": [
    {
     "data": {
      "text/plain": [
       "array(['virginica', 'setosa', 'versicolor', 'versicolor', 'versicolor',\n",
       "       'versicolor', 'versicolor', 'setosa', 'versicolor', 'setosa',\n",
       "       'setosa', 'setosa', 'virginica', 'setosa', 'virginica',\n",
       "       'virginica', 'versicolor', 'virginica', 'versicolor', 'versicolor',\n",
       "       'setosa', 'versicolor', 'setosa', 'virginica', 'versicolor',\n",
       "       'setosa', 'virginica', 'setosa', 'virginica', 'setosa',\n",
       "       'versicolor', 'virginica', 'setosa', 'setosa', 'virginica',\n",
       "       'setosa', 'virginica', 'versicolor', 'versicolor', 'virginica',\n",
       "       'versicolor', 'virginica', 'versicolor', 'setosa', 'virginica',\n",
       "       'virginica', 'setosa', 'virginica', 'virginica', 'virginica',\n",
       "       'versicolor', 'setosa', 'setosa', 'setosa', 'virginica',\n",
       "       'versicolor', 'versicolor', 'setosa', 'versicolor', 'versicolor',\n",
       "       'setosa', 'virginica', 'versicolor', 'virginica', 'setosa',\n",
       "       'virginica', 'virginica', 'setosa', 'virginica', 'setosa',\n",
       "       'versicolor', 'versicolor', 'setosa', 'versicolor', 'virginica',\n",
       "       'setosa', 'setosa', 'virginica', 'setosa', 'virginica',\n",
       "       'versicolor', 'versicolor', 'virginica', 'versicolor'],\n",
       "      dtype=object)"
      ]
     },
     "execution_count": 97,
     "metadata": {},
     "output_type": "execute_result"
    }
   ],
   "source": [
    "y_pred"
   ]
  },
  {
   "cell_type": "code",
   "execution_count": 98,
   "metadata": {},
   "outputs": [
    {
     "data": {
      "text/html": [
       "<div>\n",
       "<style scoped>\n",
       "    .dataframe tbody tr th:only-of-type {\n",
       "        vertical-align: middle;\n",
       "    }\n",
       "\n",
       "    .dataframe tbody tr th {\n",
       "        vertical-align: top;\n",
       "    }\n",
       "\n",
       "    .dataframe thead th {\n",
       "        text-align: right;\n",
       "    }\n",
       "</style>\n",
       "<table border=\"1\" class=\"dataframe\">\n",
       "  <thead>\n",
       "    <tr style=\"text-align: right;\">\n",
       "      <th></th>\n",
       "      <th>setosa</th>\n",
       "      <th>versicolor</th>\n",
       "      <th>virginica</th>\n",
       "      <th>accuracy</th>\n",
       "      <th>macro avg</th>\n",
       "      <th>weighted avg</th>\n",
       "    </tr>\n",
       "  </thead>\n",
       "  <tbody>\n",
       "    <tr>\n",
       "      <th>precision</th>\n",
       "      <td>1.0</td>\n",
       "      <td>1.0</td>\n",
       "      <td>1.0</td>\n",
       "      <td>1.0</td>\n",
       "      <td>1.0</td>\n",
       "      <td>1.0</td>\n",
       "    </tr>\n",
       "    <tr>\n",
       "      <th>recall</th>\n",
       "      <td>1.0</td>\n",
       "      <td>1.0</td>\n",
       "      <td>1.0</td>\n",
       "      <td>1.0</td>\n",
       "      <td>1.0</td>\n",
       "      <td>1.0</td>\n",
       "    </tr>\n",
       "    <tr>\n",
       "      <th>f1-score</th>\n",
       "      <td>1.0</td>\n",
       "      <td>1.0</td>\n",
       "      <td>1.0</td>\n",
       "      <td>1.0</td>\n",
       "      <td>1.0</td>\n",
       "      <td>1.0</td>\n",
       "    </tr>\n",
       "    <tr>\n",
       "      <th>support</th>\n",
       "      <td>28.0</td>\n",
       "      <td>28.0</td>\n",
       "      <td>28.0</td>\n",
       "      <td>1.0</td>\n",
       "      <td>84.0</td>\n",
       "      <td>84.0</td>\n",
       "    </tr>\n",
       "  </tbody>\n",
       "</table>\n",
       "</div>"
      ],
      "text/plain": [
       "           setosa  versicolor  virginica  accuracy  macro avg  weighted avg\n",
       "precision     1.0         1.0        1.0       1.0        1.0           1.0\n",
       "recall        1.0         1.0        1.0       1.0        1.0           1.0\n",
       "f1-score      1.0         1.0        1.0       1.0        1.0           1.0\n",
       "support      28.0        28.0       28.0       1.0       84.0          84.0"
      ]
     },
     "execution_count": 98,
     "metadata": {},
     "output_type": "execute_result"
    }
   ],
   "source": [
    "pd.DataFrame(classification_report(y_train.Species, \n",
    "                                   y_pred, output_dict=True))"
   ]
  },
  {
   "cell_type": "code",
   "execution_count": 99,
   "metadata": {},
   "outputs": [
    {
     "data": {
      "text/plain": [
       "1.0"
      ]
     },
     "execution_count": 99,
     "metadata": {},
     "output_type": "execute_result"
    }
   ],
   "source": [
    "clf.score(X_train, y_train)"
   ]
  },
  {
   "cell_type": "code",
   "execution_count": 100,
   "metadata": {},
   "outputs": [],
   "source": [
    "y_pred_val = clf.predict(validate.drop(columns='Species'))"
   ]
  },
  {
   "cell_type": "code",
   "execution_count": 101,
   "metadata": {},
   "outputs": [
    {
     "data": {
      "text/plain": [
       "1.0"
      ]
     },
     "execution_count": 101,
     "metadata": {},
     "output_type": "execute_result"
    }
   ],
   "source": [
    "clf.score(validate.drop(columns='Species'), y_pred_val)"
   ]
  },
  {
   "cell_type": "code",
   "execution_count": 103,
   "metadata": {},
   "outputs": [
    {
     "data": {
      "text/html": [
       "<div>\n",
       "<style scoped>\n",
       "    .dataframe tbody tr th:only-of-type {\n",
       "        vertical-align: middle;\n",
       "    }\n",
       "\n",
       "    .dataframe tbody tr th {\n",
       "        vertical-align: top;\n",
       "    }\n",
       "\n",
       "    .dataframe thead th {\n",
       "        text-align: right;\n",
       "    }\n",
       "</style>\n",
       "<table border=\"1\" class=\"dataframe\">\n",
       "  <thead>\n",
       "    <tr style=\"text-align: right;\">\n",
       "      <th></th>\n",
       "      <th>Sepal.Length</th>\n",
       "      <th>Sepal.Width</th>\n",
       "      <th>Petal.Length</th>\n",
       "      <th>Petal.Width</th>\n",
       "    </tr>\n",
       "  </thead>\n",
       "  <tbody>\n",
       "    <tr>\n",
       "      <th>139</th>\n",
       "      <td>6.0</td>\n",
       "      <td>3.0</td>\n",
       "      <td>4.8</td>\n",
       "      <td>1.8</td>\n",
       "    </tr>\n",
       "    <tr>\n",
       "      <th>8</th>\n",
       "      <td>5.0</td>\n",
       "      <td>3.4</td>\n",
       "      <td>1.5</td>\n",
       "      <td>0.2</td>\n",
       "    </tr>\n",
       "    <tr>\n",
       "      <th>80</th>\n",
       "      <td>5.7</td>\n",
       "      <td>2.6</td>\n",
       "      <td>3.5</td>\n",
       "      <td>1.0</td>\n",
       "    </tr>\n",
       "    <tr>\n",
       "      <th>75</th>\n",
       "      <td>6.4</td>\n",
       "      <td>2.9</td>\n",
       "      <td>4.3</td>\n",
       "      <td>1.3</td>\n",
       "    </tr>\n",
       "    <tr>\n",
       "      <th>98</th>\n",
       "      <td>6.2</td>\n",
       "      <td>2.9</td>\n",
       "      <td>4.3</td>\n",
       "      <td>1.3</td>\n",
       "    </tr>\n",
       "  </tbody>\n",
       "</table>\n",
       "</div>"
      ],
      "text/plain": [
       "     Sepal.Length  Sepal.Width  Petal.Length  Petal.Width\n",
       "139           6.0          3.0           4.8          1.8\n",
       "8             5.0          3.4           1.5          0.2\n",
       "80            5.7          2.6           3.5          1.0\n",
       "75            6.4          2.9           4.3          1.3\n",
       "98            6.2          2.9           4.3          1.3"
      ]
     },
     "execution_count": 103,
     "metadata": {},
     "output_type": "execute_result"
    }
   ],
   "source": [
    "X_train.head()"
   ]
  },
  {
   "cell_type": "code",
   "execution_count": null,
   "metadata": {},
   "outputs": [],
   "source": []
  },
  {
   "cell_type": "code",
   "execution_count": 104,
   "metadata": {},
   "outputs": [],
   "source": [
    "df = data ('mpg')"
   ]
  },
  {
   "cell_type": "code",
   "execution_count": 105,
   "metadata": {},
   "outputs": [
    {
     "data": {
      "text/html": [
       "<div>\n",
       "<style scoped>\n",
       "    .dataframe tbody tr th:only-of-type {\n",
       "        vertical-align: middle;\n",
       "    }\n",
       "\n",
       "    .dataframe tbody tr th {\n",
       "        vertical-align: top;\n",
       "    }\n",
       "\n",
       "    .dataframe thead th {\n",
       "        text-align: right;\n",
       "    }\n",
       "</style>\n",
       "<table border=\"1\" class=\"dataframe\">\n",
       "  <thead>\n",
       "    <tr style=\"text-align: right;\">\n",
       "      <th></th>\n",
       "      <th>manufacturer</th>\n",
       "      <th>model</th>\n",
       "      <th>displ</th>\n",
       "      <th>year</th>\n",
       "      <th>cyl</th>\n",
       "      <th>trans</th>\n",
       "      <th>drv</th>\n",
       "      <th>cty</th>\n",
       "      <th>hwy</th>\n",
       "      <th>fl</th>\n",
       "      <th>class</th>\n",
       "    </tr>\n",
       "  </thead>\n",
       "  <tbody>\n",
       "    <tr>\n",
       "      <th>1</th>\n",
       "      <td>audi</td>\n",
       "      <td>a4</td>\n",
       "      <td>1.8</td>\n",
       "      <td>1999</td>\n",
       "      <td>4</td>\n",
       "      <td>auto(l5)</td>\n",
       "      <td>f</td>\n",
       "      <td>18</td>\n",
       "      <td>29</td>\n",
       "      <td>p</td>\n",
       "      <td>compact</td>\n",
       "    </tr>\n",
       "    <tr>\n",
       "      <th>2</th>\n",
       "      <td>audi</td>\n",
       "      <td>a4</td>\n",
       "      <td>1.8</td>\n",
       "      <td>1999</td>\n",
       "      <td>4</td>\n",
       "      <td>manual(m5)</td>\n",
       "      <td>f</td>\n",
       "      <td>21</td>\n",
       "      <td>29</td>\n",
       "      <td>p</td>\n",
       "      <td>compact</td>\n",
       "    </tr>\n",
       "    <tr>\n",
       "      <th>3</th>\n",
       "      <td>audi</td>\n",
       "      <td>a4</td>\n",
       "      <td>2.0</td>\n",
       "      <td>2008</td>\n",
       "      <td>4</td>\n",
       "      <td>manual(m6)</td>\n",
       "      <td>f</td>\n",
       "      <td>20</td>\n",
       "      <td>31</td>\n",
       "      <td>p</td>\n",
       "      <td>compact</td>\n",
       "    </tr>\n",
       "    <tr>\n",
       "      <th>4</th>\n",
       "      <td>audi</td>\n",
       "      <td>a4</td>\n",
       "      <td>2.0</td>\n",
       "      <td>2008</td>\n",
       "      <td>4</td>\n",
       "      <td>auto(av)</td>\n",
       "      <td>f</td>\n",
       "      <td>21</td>\n",
       "      <td>30</td>\n",
       "      <td>p</td>\n",
       "      <td>compact</td>\n",
       "    </tr>\n",
       "    <tr>\n",
       "      <th>5</th>\n",
       "      <td>audi</td>\n",
       "      <td>a4</td>\n",
       "      <td>2.8</td>\n",
       "      <td>1999</td>\n",
       "      <td>6</td>\n",
       "      <td>auto(l5)</td>\n",
       "      <td>f</td>\n",
       "      <td>16</td>\n",
       "      <td>26</td>\n",
       "      <td>p</td>\n",
       "      <td>compact</td>\n",
       "    </tr>\n",
       "  </tbody>\n",
       "</table>\n",
       "</div>"
      ],
      "text/plain": [
       "  manufacturer model  displ  year  cyl       trans drv  cty  hwy fl    class\n",
       "1         audi    a4    1.8  1999    4    auto(l5)   f   18   29  p  compact\n",
       "2         audi    a4    1.8  1999    4  manual(m5)   f   21   29  p  compact\n",
       "3         audi    a4    2.0  2008    4  manual(m6)   f   20   31  p  compact\n",
       "4         audi    a4    2.0  2008    4    auto(av)   f   21   30  p  compact\n",
       "5         audi    a4    2.8  1999    6    auto(l5)   f   16   26  p  compact"
      ]
     },
     "execution_count": 105,
     "metadata": {},
     "output_type": "execute_result"
    }
   ],
   "source": [
    "df.head()"
   ]
  },
  {
   "cell_type": "code",
   "execution_count": 108,
   "metadata": {},
   "outputs": [],
   "source": [
    "train, test = train_test_split(df, train_size=0.8, \n",
    "                               random_state=1349, \n",
    "                               stratify=df.drv)\n",
    "train, validate = train_test_split(train, train_size=0.7, \n",
    "                                   random_state=1349, \n",
    "                                   stratify=train.drv)"
   ]
  },
  {
   "cell_type": "code",
   "execution_count": 111,
   "metadata": {},
   "outputs": [],
   "source": [
    "#make the thing:\n",
    "clf = RandomForestClassifier(max_depth=2)"
   ]
  },
  {
   "cell_type": "code",
   "execution_count": 112,
   "metadata": {},
   "outputs": [
    {
     "data": {
      "text/plain": [
       "RandomForestClassifier(max_depth=2)"
      ]
     },
     "execution_count": 112,
     "metadata": {},
     "output_type": "execute_result"
    }
   ],
   "source": [
    "# fit the thing:\n",
    "# Dont fit on the entire dateaset.  Just train\n",
    "clf.fit(train[['displ', 'cty','hwy']], train.drv)"
   ]
  },
  {
   "cell_type": "code",
   "execution_count": 113,
   "metadata": {},
   "outputs": [],
   "source": [
    "# try to predict the drv based on city and hwy\n",
    "\n",
    "y_pred = clf.predict(train[['displ', 'cty','hwy']])"
   ]
  },
  {
   "cell_type": "code",
   "execution_count": 114,
   "metadata": {},
   "outputs": [
    {
     "data": {
      "text/plain": [
       "0.7692307692307693"
      ]
     },
     "execution_count": 114,
     "metadata": {},
     "output_type": "execute_result"
    }
   ],
   "source": [
    "# train\n",
    "clf.score(train[['displ', 'cty','hwy']], train.drv)"
   ]
  },
  {
   "cell_type": "code",
   "execution_count": null,
   "metadata": {},
   "outputs": [],
   "source": []
  },
  {
   "cell_type": "code",
   "execution_count": 116,
   "metadata": {},
   "outputs": [
    {
     "data": {
      "text/plain": [
       "0.8771929824561403"
      ]
     },
     "execution_count": 116,
     "metadata": {},
     "output_type": "execute_result"
    }
   ],
   "source": [
    "# validate\n",
    "clf.score(validate[['displ', 'cty', 'hwy']], validate.drv)"
   ]
  },
  {
   "cell_type": "code",
   "execution_count": 117,
   "metadata": {},
   "outputs": [],
   "source": [
    "# y prediction probability\n",
    "y_pred_proba = clf.predict_proba(train[['displ', 'cty','hwy']])"
   ]
  },
  {
   "cell_type": "code",
   "execution_count": 118,
   "metadata": {},
   "outputs": [
    {
     "data": {
      "text/plain": [
       "f    59\n",
       "4    57\n",
       "r    14\n",
       "Name: drv, dtype: int64"
      ]
     },
     "execution_count": 118,
     "metadata": {},
     "output_type": "execute_result"
    }
   ],
   "source": [
    "# count\n",
    "train.drv.value_counts()"
   ]
  },
  {
   "cell_type": "code",
   "execution_count": 119,
   "metadata": {},
   "outputs": [
    {
     "data": {
      "text/plain": [
       "array([[0.8490005 , 0.01477312, 0.13622637],\n",
       "       [0.28353032, 0.66384042, 0.05262926],\n",
       "       [0.85659091, 0.01779207, 0.12561702],\n",
       "       [0.22633299, 0.74283363, 0.03083338],\n",
       "       [0.20200992, 0.76228801, 0.03570207],\n",
       "       [0.45558661, 0.18973538, 0.35467801],\n",
       "       [0.22627198, 0.73935629, 0.03437173],\n",
       "       [0.44163543, 0.19749729, 0.36086728],\n",
       "       [0.27781435, 0.66833687, 0.05384877],\n",
       "       [0.35782267, 0.56632922, 0.0758481 ],\n",
       "       [0.63141528, 0.04194506, 0.32663965],\n",
       "       [0.33794919, 0.48115543, 0.18089538],\n",
       "       [0.80609247, 0.10604883, 0.08785871],\n",
       "       [0.11205487, 0.87707079, 0.01087433],\n",
       "       [0.27119812, 0.59089914, 0.13790274],\n",
       "       [0.34128531, 0.59046606, 0.06824863],\n",
       "       [0.44969974, 0.30178333, 0.24851693],\n",
       "       [0.8761418 , 0.01526093, 0.10859727],\n",
       "       [0.37211931, 0.37214015, 0.25574054],\n",
       "       [0.29077842, 0.60653167, 0.10268991],\n",
       "       [0.75687011, 0.01299314, 0.23013675],\n",
       "       [0.47196695, 0.34659734, 0.18143571],\n",
       "       [0.11205487, 0.87707079, 0.01087433],\n",
       "       [0.16119135, 0.81646741, 0.02234124],\n",
       "       [0.75240588, 0.01299314, 0.23460098],\n",
       "       [0.85659091, 0.01779207, 0.12561702],\n",
       "       [0.27781435, 0.66833687, 0.05384877],\n",
       "       [0.25533009, 0.70210585, 0.04256406],\n",
       "       [0.35782267, 0.56632922, 0.0758481 ],\n",
       "       [0.8490005 , 0.01477312, 0.13622637],\n",
       "       [0.27959076, 0.53366536, 0.18674388],\n",
       "       [0.33501284, 0.182965  , 0.48202216],\n",
       "       [0.63141528, 0.04194506, 0.32663965],\n",
       "       [0.17526103, 0.8053725 , 0.01936647],\n",
       "       [0.32548046, 0.52376964, 0.1507499 ],\n",
       "       [0.27781435, 0.66833687, 0.05384877],\n",
       "       [0.12711787, 0.8597924 , 0.01308972],\n",
       "       [0.11205487, 0.87707079, 0.01087433],\n",
       "       [0.11205487, 0.87707079, 0.01087433],\n",
       "       [0.77954717, 0.01348094, 0.20697189],\n",
       "       [0.12024447, 0.86710059, 0.01265494],\n",
       "       [0.2429568 , 0.71165483, 0.04538837],\n",
       "       [0.21355946, 0.75315334, 0.0332872 ],\n",
       "       [0.36160316, 0.56376825, 0.07462859],\n",
       "       [0.8761418 , 0.01526093, 0.10859727],\n",
       "       [0.86690652, 0.02413913, 0.10895434],\n",
       "       [0.30642776, 0.63378401, 0.05978823],\n",
       "       [0.85659091, 0.01779207, 0.12561702],\n",
       "       [0.11205487, 0.87707079, 0.01087433],\n",
       "       [0.3450658 , 0.58790508, 0.06702912],\n",
       "       [0.24827116, 0.37542476, 0.37630408],\n",
       "       [0.47196695, 0.34659734, 0.18143571],\n",
       "       [0.11205487, 0.87707079, 0.01087433],\n",
       "       [0.11205487, 0.87707079, 0.01087433],\n",
       "       [0.3450658 , 0.58790508, 0.06702912],\n",
       "       [0.85155564, 0.02667027, 0.12177409],\n",
       "       [0.11205487, 0.87707079, 0.01087433],\n",
       "       [0.21990802, 0.74598832, 0.03410366],\n",
       "       [0.20410845, 0.7657485 , 0.03014305],\n",
       "       [0.8761418 , 0.01526093, 0.10859727],\n",
       "       [0.75331524, 0.1564051 , 0.09027967],\n",
       "       [0.27781435, 0.66833687, 0.05384877],\n",
       "       [0.25159505, 0.71020454, 0.03820041],\n",
       "       [0.8761418 , 0.01526093, 0.10859727],\n",
       "       [0.77954717, 0.01348094, 0.20697189],\n",
       "       [0.747618  , 0.01238708, 0.23999492],\n",
       "       [0.6065281 , 0.20907575, 0.18439615],\n",
       "       [0.25533009, 0.70210585, 0.04256406],\n",
       "       [0.8761418 , 0.01526093, 0.10859727],\n",
       "       [0.11205487, 0.87707079, 0.01087433],\n",
       "       [0.13346644, 0.85262738, 0.01390619],\n",
       "       [0.21797254, 0.7479238 , 0.03410366],\n",
       "       [0.8761418 , 0.01526093, 0.10859727],\n",
       "       [0.75331524, 0.1564051 , 0.09027967],\n",
       "       [0.75687011, 0.01299314, 0.23013675],\n",
       "       [0.75240588, 0.01299314, 0.23460098],\n",
       "       [0.17000024, 0.80722374, 0.02277602],\n",
       "       [0.668898  , 0.176254  , 0.154848  ],\n",
       "       [0.26104606, 0.69760939, 0.04134455],\n",
       "       [0.37211931, 0.37214015, 0.25574054],\n",
       "       [0.12711787, 0.8597924 , 0.01308972],\n",
       "       [0.85155564, 0.02667027, 0.12177409],\n",
       "       [0.11205487, 0.87707079, 0.01087433],\n",
       "       [0.75331524, 0.1564051 , 0.09027967],\n",
       "       [0.56111514, 0.34672815, 0.09215671],\n",
       "       [0.8490005 , 0.01477312, 0.13622637],\n",
       "       [0.35832547, 0.54328042, 0.09839411],\n",
       "       [0.28353032, 0.66384042, 0.05262926],\n",
       "       [0.6065281 , 0.20907575, 0.18439615],\n",
       "       [0.71692925, 0.01113478, 0.27193597],\n",
       "       [0.35782267, 0.56632922, 0.0758481 ],\n",
       "       [0.12711787, 0.8597924 , 0.01308972],\n",
       "       [0.26292053, 0.69219656, 0.0448829 ],\n",
       "       [0.24781456, 0.71276552, 0.03941992],\n",
       "       [0.35782267, 0.56632922, 0.0758481 ],\n",
       "       [0.71380307, 0.00811584, 0.27808109],\n",
       "       [0.37026395, 0.35197228, 0.27776377],\n",
       "       [0.12796915, 0.85971297, 0.01231789],\n",
       "       [0.8761418 , 0.01526093, 0.10859727],\n",
       "       [0.11205487, 0.87707079, 0.01087433],\n",
       "       [0.29695112, 0.63178179, 0.07126709],\n",
       "       [0.29695112, 0.63178179, 0.07126709],\n",
       "       [0.34341327, 0.58282777, 0.07375896],\n",
       "       [0.85346474, 0.01477312, 0.13176214],\n",
       "       [0.2708345 , 0.38470522, 0.34446028],\n",
       "       [0.12024447, 0.86710059, 0.01265494],\n",
       "       [0.32024595, 0.59107159, 0.08868246],\n",
       "       [0.22973484, 0.72612804, 0.04413712],\n",
       "       [0.85346474, 0.01477312, 0.13176214],\n",
       "       [0.76257357, 0.13210335, 0.10532308],\n",
       "       [0.27781435, 0.66833687, 0.05384877],\n",
       "       [0.33010546, 0.34880947, 0.32108507],\n",
       "       [0.35832547, 0.54328042, 0.09839411],\n",
       "       [0.35782267, 0.56632922, 0.0758481 ],\n",
       "       [0.23854372, 0.71688437, 0.04457191],\n",
       "       [0.43574856, 0.30954523, 0.25470621],\n",
       "       [0.17702566, 0.79855698, 0.02441736],\n",
       "       [0.27781435, 0.66833687, 0.05384877],\n",
       "       [0.44163543, 0.19749729, 0.36086728],\n",
       "       [0.3450658 , 0.58790508, 0.06702912],\n",
       "       [0.8761418 , 0.01526093, 0.10859727],\n",
       "       [0.85659091, 0.01779207, 0.12561702],\n",
       "       [0.77954717, 0.01348094, 0.20697189],\n",
       "       [0.35782267, 0.56632922, 0.0758481 ],\n",
       "       [0.11205487, 0.87707079, 0.01087433],\n",
       "       [0.3450658 , 0.58790508, 0.06702912],\n",
       "       [0.16119135, 0.81646741, 0.02234124],\n",
       "       [0.8490005 , 0.01477312, 0.13622637],\n",
       "       [0.12711787, 0.8597924 , 0.01308972],\n",
       "       [0.79532447, 0.1309013 , 0.07377423]])"
      ]
     },
     "execution_count": 119,
     "metadata": {},
     "output_type": "execute_result"
    }
   ],
   "source": [
    "y_pred_proba"
   ]
  },
  {
   "cell_type": "code",
   "execution_count": null,
   "metadata": {},
   "outputs": [],
   "source": []
  }
 ],
 "metadata": {
  "kernelspec": {
   "display_name": "Python 3",
   "language": "python",
   "name": "python3"
  },
  "language_info": {
   "codemirror_mode": {
    "name": "ipython",
    "version": 3
   },
   "file_extension": ".py",
   "mimetype": "text/x-python",
   "name": "python",
   "nbconvert_exporter": "python",
   "pygments_lexer": "ipython3",
   "version": "3.8.5"
  }
 },
 "nbformat": 4,
 "nbformat_minor": 4
}
